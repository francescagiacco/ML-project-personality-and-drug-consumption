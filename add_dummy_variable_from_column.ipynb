{
 "cells": [
  {
   "cell_type": "code",
   "execution_count": 2,
   "id": "bd199b2b",
   "metadata": {},
   "outputs": [],
   "source": [
    "import pandas as pd"
   ]
  },
  {
   "cell_type": "markdown",
   "id": "84629b39",
   "metadata": {},
   "source": [
    "## Import and study the data"
   ]
  },
  {
   "cell_type": "code",
   "execution_count": 3,
   "id": "901173e7",
   "metadata": {},
   "outputs": [],
   "source": [
    "data = pd.read_csv('drug_consumption.csv')\n",
    "data.replace(0.12600, 0.126001, inplace = True) #tips tranform to float, zero were rounded"
   ]
  },
  {
   "cell_type": "code",
   "execution_count": 4,
   "id": "ee4eeabb",
   "metadata": {},
   "outputs": [
    {
     "data": {
      "text/plain": [
       "count    1885.000000\n",
       "mean       -0.309577\n",
       "std         0.166226\n",
       "min        -1.107020\n",
       "25%        -0.316850\n",
       "50%        -0.316850\n",
       "75%        -0.316850\n",
       "max         1.907250\n",
       "Name: etnicity, dtype: float64"
      ]
     },
     "execution_count": 4,
     "metadata": {},
     "output_type": "execute_result"
    }
   ],
   "source": [
    "data['etnicity'].describe()"
   ]
  },
  {
   "cell_type": "code",
   "execution_count": 4,
   "id": "689a4fe8",
   "metadata": {},
   "outputs": [
    {
     "data": {
      "text/plain": [
       "-0.316850    1720\n",
       " 0.114400      63\n",
       "-1.107020      33\n",
       "-0.502120      26\n",
       " 0.126001      20\n",
       "-0.221660      20\n",
       " 1.907250       3\n",
       "Name: etnicity, dtype: int64"
      ]
     },
     "execution_count": 4,
     "metadata": {},
     "output_type": "execute_result"
    }
   ],
   "source": [
    "data['etnicity'].value_counts()"
   ]
  },
  {
   "cell_type": "code",
   "execution_count": 6,
   "id": "aec36b93",
   "metadata": {},
   "outputs": [],
   "source": [
    "#how to solve the probelm with list comprehension\n",
    "l = [1  if i == 0.126001 else 0 for i in data['etnicity']] \n",
    "#l"
   ]
  },
  {
   "cell_type": "code",
   "execution_count": 7,
   "id": "8eb7682f",
   "metadata": {},
   "outputs": [],
   "source": [
    "#create dictionary etnicity: value in the column\n",
    "d = {'asian' : -0.50212, 'black_asian' : 1.90725, 'white_asian' : 0.126001,\n",
    "     'white_black' : -0.22166, 'other' : 0.11440, 'white' : -0.31685, \n",
    "     'other2': -1.10702 } "
   ]
  },
  {
   "cell_type": "markdown",
   "id": "00d7132b",
   "metadata": {},
   "source": [
    "## Write the function"
   ]
  },
  {
   "cell_type": "code",
   "execution_count": 11,
   "id": "3841582b",
   "metadata": {},
   "outputs": [],
   "source": [
    " def create_dictionary(column_data, d):\n",
    "    '''input : column_data = column of pandas dataframe  \n",
    "                d = dictionary\n",
    "                \n",
    "        output : dictionary, keys: same keys of d  \n",
    "                            value : list of 0 and 1 of lenght column_data, 1 if the the the value \n",
    "                                    of the dictionary appear in the line '''\n",
    "\n",
    "    output = {}\n",
    "    for etn in d:\n",
    "        print(d[etn])\n",
    "        output[etn] =  [1  if i == d[etn] else 0 for i in column_data]\n",
    "    \n",
    "    return output"
   ]
  },
  {
   "cell_type": "code",
   "execution_count": 12,
   "id": "fe1fad63",
   "metadata": {
    "scrolled": false
   },
   "outputs": [],
   "source": [
    "def append_in_dataframe(data, dictionary):\n",
    "    ''' input: data = pandas dataframe \n",
    "                dictionary = dictionary, keys: name of new column of the uotput  \n",
    "                                        value : binary list (0,1) of lenght n = rows of dataframe\n",
    "                                        \n",
    "        output: pandas dataframe + (keys of d)_columns with the list as values'''\n",
    "    \n",
    "    new_data = data.copy()\n",
    "    for new_column in dictionary:\n",
    "        #print(new_column, dictionary[new_column])\n",
    "        new_data[new_column] = dictionary[new_column]\n",
    "        #print(new_data[new_column])\n",
    "    return new_data  \n",
    "    "
   ]
  },
  {
   "cell_type": "markdown",
   "id": "92fdf91f",
   "metadata": {},
   "source": [
    "## Run function and save"
   ]
  },
  {
   "cell_type": "code",
   "execution_count": 13,
   "id": "000a3953",
   "metadata": {
    "scrolled": true
   },
   "outputs": [
    {
     "name": "stdout",
     "output_type": "stream",
     "text": [
      "-0.50212\n",
      "1.90725\n",
      "0.126001\n",
      "-0.22166\n",
      "0.1144\n",
      "-0.31685\n",
      "-1.10702\n"
     ]
    },
    {
     "data": {
      "text/html": [
       "<div>\n",
       "<style scoped>\n",
       "    .dataframe tbody tr th:only-of-type {\n",
       "        vertical-align: middle;\n",
       "    }\n",
       "\n",
       "    .dataframe tbody tr th {\n",
       "        vertical-align: top;\n",
       "    }\n",
       "\n",
       "    .dataframe thead th {\n",
       "        text-align: right;\n",
       "    }\n",
       "</style>\n",
       "<table border=\"1\" class=\"dataframe\">\n",
       "  <thead>\n",
       "    <tr style=\"text-align: right;\">\n",
       "      <th></th>\n",
       "      <th>id_number</th>\n",
       "      <th>age</th>\n",
       "      <th>gender</th>\n",
       "      <th>education</th>\n",
       "      <th>country</th>\n",
       "      <th>n_score</th>\n",
       "      <th>e_score</th>\n",
       "      <th>o_score</th>\n",
       "      <th>a_score</th>\n",
       "      <th>c_score</th>\n",
       "      <th>...</th>\n",
       "      <th>nicotine</th>\n",
       "      <th>semer</th>\n",
       "      <th>vsa</th>\n",
       "      <th>asian</th>\n",
       "      <th>black_asian</th>\n",
       "      <th>white_asian</th>\n",
       "      <th>white_black</th>\n",
       "      <th>other</th>\n",
       "      <th>white</th>\n",
       "      <th>other2</th>\n",
       "    </tr>\n",
       "  </thead>\n",
       "  <tbody>\n",
       "    <tr>\n",
       "      <th>0</th>\n",
       "      <td>1</td>\n",
       "      <td>0.49788</td>\n",
       "      <td>0.48246</td>\n",
       "      <td>-0.05921</td>\n",
       "      <td>0.96082</td>\n",
       "      <td>0.31287</td>\n",
       "      <td>-0.57545</td>\n",
       "      <td>-0.58331</td>\n",
       "      <td>-0.91699</td>\n",
       "      <td>-0.00665</td>\n",
       "      <td>...</td>\n",
       "      <td>2</td>\n",
       "      <td>0</td>\n",
       "      <td>0</td>\n",
       "      <td>0</td>\n",
       "      <td>0</td>\n",
       "      <td>1</td>\n",
       "      <td>0</td>\n",
       "      <td>0</td>\n",
       "      <td>0</td>\n",
       "      <td>0</td>\n",
       "    </tr>\n",
       "    <tr>\n",
       "      <th>1</th>\n",
       "      <td>2</td>\n",
       "      <td>-0.07854</td>\n",
       "      <td>-0.48246</td>\n",
       "      <td>1.98437</td>\n",
       "      <td>0.96082</td>\n",
       "      <td>-0.67825</td>\n",
       "      <td>1.93886</td>\n",
       "      <td>1.43533</td>\n",
       "      <td>0.76096</td>\n",
       "      <td>-0.14277</td>\n",
       "      <td>...</td>\n",
       "      <td>4</td>\n",
       "      <td>0</td>\n",
       "      <td>0</td>\n",
       "      <td>0</td>\n",
       "      <td>0</td>\n",
       "      <td>0</td>\n",
       "      <td>0</td>\n",
       "      <td>0</td>\n",
       "      <td>1</td>\n",
       "      <td>0</td>\n",
       "    </tr>\n",
       "    <tr>\n",
       "      <th>2</th>\n",
       "      <td>3</td>\n",
       "      <td>0.49788</td>\n",
       "      <td>-0.48246</td>\n",
       "      <td>-0.05921</td>\n",
       "      <td>0.96082</td>\n",
       "      <td>-0.46725</td>\n",
       "      <td>0.80523</td>\n",
       "      <td>-0.84732</td>\n",
       "      <td>-1.62090</td>\n",
       "      <td>-1.01450</td>\n",
       "      <td>...</td>\n",
       "      <td>0</td>\n",
       "      <td>0</td>\n",
       "      <td>0</td>\n",
       "      <td>0</td>\n",
       "      <td>0</td>\n",
       "      <td>0</td>\n",
       "      <td>0</td>\n",
       "      <td>0</td>\n",
       "      <td>1</td>\n",
       "      <td>0</td>\n",
       "    </tr>\n",
       "    <tr>\n",
       "      <th>3</th>\n",
       "      <td>4</td>\n",
       "      <td>-0.95197</td>\n",
       "      <td>0.48246</td>\n",
       "      <td>1.16365</td>\n",
       "      <td>0.96082</td>\n",
       "      <td>-0.14882</td>\n",
       "      <td>-0.80615</td>\n",
       "      <td>-0.01928</td>\n",
       "      <td>0.59042</td>\n",
       "      <td>0.58489</td>\n",
       "      <td>...</td>\n",
       "      <td>2</td>\n",
       "      <td>0</td>\n",
       "      <td>0</td>\n",
       "      <td>0</td>\n",
       "      <td>0</td>\n",
       "      <td>0</td>\n",
       "      <td>0</td>\n",
       "      <td>0</td>\n",
       "      <td>1</td>\n",
       "      <td>0</td>\n",
       "    </tr>\n",
       "    <tr>\n",
       "      <th>4</th>\n",
       "      <td>5</td>\n",
       "      <td>0.49788</td>\n",
       "      <td>0.48246</td>\n",
       "      <td>1.98437</td>\n",
       "      <td>0.96082</td>\n",
       "      <td>0.73545</td>\n",
       "      <td>-1.63340</td>\n",
       "      <td>-0.45174</td>\n",
       "      <td>-0.30172</td>\n",
       "      <td>1.30612</td>\n",
       "      <td>...</td>\n",
       "      <td>2</td>\n",
       "      <td>0</td>\n",
       "      <td>0</td>\n",
       "      <td>0</td>\n",
       "      <td>0</td>\n",
       "      <td>0</td>\n",
       "      <td>0</td>\n",
       "      <td>0</td>\n",
       "      <td>1</td>\n",
       "      <td>0</td>\n",
       "    </tr>\n",
       "  </tbody>\n",
       "</table>\n",
       "<p>5 rows × 38 columns</p>\n",
       "</div>"
      ],
      "text/plain": [
       "   id_number      age   gender  education  country   n_score  e_score  \\\n",
       "0          1  0.49788  0.48246   -0.05921   0.96082  0.31287 -0.57545   \n",
       "1          2 -0.07854 -0.48246    1.98437   0.96082 -0.67825  1.93886   \n",
       "2          3  0.49788 -0.48246   -0.05921   0.96082 -0.46725  0.80523   \n",
       "3          4 -0.95197  0.48246    1.16365   0.96082 -0.14882 -0.80615   \n",
       "4          5  0.49788  0.48246    1.98437   0.96082  0.73545 -1.63340   \n",
       "\n",
       "   o_score  a_score  c_score  ...  nicotine  semer  vsa  asian  black_asian  \\\n",
       "0 -0.58331 -0.91699 -0.00665  ...         2      0    0      0            0   \n",
       "1  1.43533  0.76096 -0.14277  ...         4      0    0      0            0   \n",
       "2 -0.84732 -1.62090 -1.01450  ...         0      0    0      0            0   \n",
       "3 -0.01928  0.59042  0.58489  ...         2      0    0      0            0   \n",
       "4 -0.45174 -0.30172  1.30612  ...         2      0    0      0            0   \n",
       "\n",
       "   white_asian  white_black  other  white  other2  \n",
       "0            1            0      0      0       0  \n",
       "1            0            0      0      1       0  \n",
       "2            0            0      0      1       0  \n",
       "3            0            0      0      1       0  \n",
       "4            0            0      0      1       0  \n",
       "\n",
       "[5 rows x 38 columns]"
      ]
     },
     "execution_count": 13,
     "metadata": {},
     "output_type": "execute_result"
    }
   ],
   "source": [
    "d = {'asian' : -0.50212, 'black_asian' : 1.90725, 'white_asian' : 0.126001,\n",
    "     'white_black' : -0.22166, 'other' : 0.11440, 'white' : -0.31685, \n",
    "     'other2': -1.10702 } \n",
    "\n",
    "\n",
    "dictionary = create_dictionary(data['etnicity'], d)\n",
    "final_df = append_in_dataframe(data, dictionary)\n",
    "\n",
    "\n",
    "#remove the 'etnicity' column\n",
    "final_df = final_df.drop('etnicity', axis = 1).head()\n",
    "final_df.head()"
   ]
  },
  {
   "cell_type": "code",
   "execution_count": 173,
   "id": "3b20d62f",
   "metadata": {},
   "outputs": [],
   "source": [
    "final_df.to_csv('data_etnicity.csv' ) #path wrong but windows fault"
   ]
  },
  {
   "cell_type": "markdown",
   "id": "86408796",
   "metadata": {},
   "source": [
    "### more code for writing it"
   ]
  },
  {
   "cell_type": "code",
   "execution_count": 14,
   "id": "8ac441d8",
   "metadata": {},
   "outputs": [
    {
     "ename": "NameError",
     "evalue": "name 'output' is not defined",
     "output_type": "error",
     "traceback": [
      "\u001b[1;31m---------------------------------------------------------------------------\u001b[0m",
      "\u001b[1;31mNameError\u001b[0m                                 Traceback (most recent call last)",
      "\u001b[1;32mC:\\Users\\FRANCE~1\\AppData\\Local\\Temp/ipykernel_1888/2523650462.py\u001b[0m in \u001b[0;36m<module>\u001b[1;34m\u001b[0m\n\u001b[0;32m      2\u001b[0m      'white_black' : -0.22166, 'other' : 0.11440, 'white' : -0.31685 } \n\u001b[0;32m      3\u001b[0m \u001b[1;33m\u001b[0m\u001b[0m\n\u001b[1;32m----> 4\u001b[1;33m \u001b[1;32mfor\u001b[0m \u001b[0mkey\u001b[0m \u001b[1;32min\u001b[0m \u001b[0moutput\u001b[0m\u001b[1;33m:\u001b[0m\u001b[1;33m\u001b[0m\u001b[1;33m\u001b[0m\u001b[0m\n\u001b[0m\u001b[0;32m      5\u001b[0m     \u001b[0mprint\u001b[0m\u001b[1;33m(\u001b[0m\u001b[0mkey\u001b[0m\u001b[1;33m)\u001b[0m\u001b[1;33m\u001b[0m\u001b[1;33m\u001b[0m\u001b[0m\n\u001b[0;32m      6\u001b[0m \u001b[0moutput\u001b[0m\u001b[1;33m[\u001b[0m\u001b[1;34m'white_asian'\u001b[0m\u001b[1;33m]\u001b[0m\u001b[1;33m\u001b[0m\u001b[1;33m\u001b[0m\u001b[0m\n",
      "\u001b[1;31mNameError\u001b[0m: name 'output' is not defined"
     ]
    }
   ],
   "source": [
    "d = {'asian' : -0.50212, 'black_asian' : 1.90725, 'white_asian' : 0.12600,\n",
    "     'white_black' : -0.22166, 'other' : 0.11440, 'white' : -0.31685 } \n",
    "\n",
    "for key in output:\n",
    "    print(key)\n",
    "output['white_asian']"
   ]
  },
  {
   "cell_type": "code",
   "execution_count": 15,
   "id": "1dc1f3a5",
   "metadata": {},
   "outputs": [
    {
     "ename": "NameError",
     "evalue": "name 'create_list_of_list' is not defined",
     "output_type": "error",
     "traceback": [
      "\u001b[1;31m---------------------------------------------------------------------------\u001b[0m",
      "\u001b[1;31mNameError\u001b[0m                                 Traceback (most recent call last)",
      "\u001b[1;32mC:\\Users\\FRANCE~1\\AppData\\Local\\Temp/ipykernel_1888/3704289954.py\u001b[0m in \u001b[0;36m<module>\u001b[1;34m\u001b[0m\n\u001b[1;32m----> 1\u001b[1;33m \u001b[0moutput\u001b[0m \u001b[1;33m=\u001b[0m\u001b[0mcreate_list_of_list\u001b[0m\u001b[1;33m(\u001b[0m\u001b[0mdata\u001b[0m\u001b[1;33m[\u001b[0m\u001b[1;34m'etnicity'\u001b[0m\u001b[1;33m]\u001b[0m\u001b[1;33m,\u001b[0m \u001b[0md\u001b[0m\u001b[1;33m)\u001b[0m\u001b[1;33m\u001b[0m\u001b[1;33m\u001b[0m\u001b[0m\n\u001b[0m\u001b[0;32m      2\u001b[0m \u001b[0moutput\u001b[0m\u001b[1;33m[\u001b[0m\u001b[1;34m'white_asian'\u001b[0m\u001b[1;33m]\u001b[0m\u001b[1;33m\u001b[0m\u001b[1;33m\u001b[0m\u001b[0m\n",
      "\u001b[1;31mNameError\u001b[0m: name 'create_list_of_list' is not defined"
     ]
    }
   ],
   "source": [
    "output =create_list_of_list(data['etnicity'], d)\n",
    "output['white_asian']"
   ]
  },
  {
   "cell_type": "code",
   "execution_count": 176,
   "id": "fddfd269",
   "metadata": {},
   "outputs": [
    {
     "name": "stdout",
     "output_type": "stream",
     "text": [
      "-0.50212\n",
      "1.90725\n",
      "0.126\n",
      "-0.22166\n",
      "0.1144\n",
      "-0.31685\n"
     ]
    }
   ],
   "source": [
    "output =create_list_of_list(data['etnicity'], d)\n",
    "output['asian']\n",
    "data['asian'] = output['asian']"
   ]
  }
 ],
 "metadata": {
  "kernelspec": {
   "display_name": "Python 3 (ipykernel)",
   "language": "python",
   "name": "python3"
  },
  "language_info": {
   "codemirror_mode": {
    "name": "ipython",
    "version": 3
   },
   "file_extension": ".py",
   "mimetype": "text/x-python",
   "name": "python",
   "nbconvert_exporter": "python",
   "pygments_lexer": "ipython3",
   "version": "3.9.7"
  }
 },
 "nbformat": 4,
 "nbformat_minor": 5
}
