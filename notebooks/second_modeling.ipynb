{
 "cells": [
  {
   "cell_type": "code",
   "execution_count": 177,
   "id": "cfabb981",
   "metadata": {},
   "outputs": [],
   "source": [
    "import pandas as pd\n",
    "import os\n",
    "import matplotlib.pyplot as plt\n",
    "import seaborn as sns\n",
    "import numpy as np\n",
    "\n",
    "# Sklearn functions and models\n",
    "from sklearn.model_selection import train_test_split\n",
    "from sklearn.feature_selection import mutual_info_classif\n",
    "from sklearn.linear_model import LogisticRegression\n",
    "from sklearn.metrics import accuracy_score\n",
    "from sklearn.model_selection import KFold\n",
    "from sklearn.model_selection import cross_val_score\n",
    "from sklearn.metrics import confusion_matrix\n",
    "from sklearn.metrics import matthews_corrcoef\n"
   ]
  },
  {
   "cell_type": "code",
   "execution_count": 237,
   "id": "e32d1091",
   "metadata": {},
   "outputs": [],
   "source": [
    "#dt are the 3 drug types for which we run the models \n",
    "#select dt to choose drug type\n",
    "\n",
    "dt = 'stim_add_aggr'\n",
    "\n",
    "if dt not in ['hall_add_aggr','stim_add_aggr', 'depr_add_aggr']:\n",
    "    raise ValueError('dt has to be one of: hall_add_aggr, stim_add_aggr, depr_add_aggr')"
   ]
  },
  {
   "cell_type": "markdown",
   "id": "93566acf",
   "metadata": {},
   "source": [
    "## Tuning notebook parameters"
   ]
  },
  {
   "cell_type": "code",
   "execution_count": 238,
   "id": "3cd179f1",
   "metadata": {},
   "outputs": [
    {
     "data": {
      "text/plain": [
       "0       0\n",
       "1       1\n",
       "2       0\n",
       "3       0\n",
       "4       0\n",
       "       ..\n",
       "1880    0\n",
       "1881    1\n",
       "1882    2\n",
       "1883    1\n",
       "1884    2\n",
       "Name: stim_add_aggr, Length: 1885, dtype: int64"
      ]
     },
     "execution_count": 238,
     "metadata": {},
     "output_type": "execute_result"
    }
   ],
   "source": [
    "data[dt]"
   ]
  },
  {
   "cell_type": "code",
   "execution_count": 239,
   "id": "8c80bc36",
   "metadata": {
    "scrolled": true
   },
   "outputs": [
    {
     "data": {
      "text/html": [
       "<div>\n",
       "<style scoped>\n",
       "    .dataframe tbody tr th:only-of-type {\n",
       "        vertical-align: middle;\n",
       "    }\n",
       "\n",
       "    .dataframe tbody tr th {\n",
       "        vertical-align: top;\n",
       "    }\n",
       "\n",
       "    .dataframe thead th {\n",
       "        text-align: right;\n",
       "    }\n",
       "</style>\n",
       "<table border=\"1\" class=\"dataframe\">\n",
       "  <thead>\n",
       "    <tr style=\"text-align: right;\">\n",
       "      <th></th>\n",
       "      <th>age</th>\n",
       "      <th>education</th>\n",
       "      <th>n_score</th>\n",
       "      <th>e_score</th>\n",
       "      <th>o_score</th>\n",
       "      <th>a_score</th>\n",
       "      <th>c_score</th>\n",
       "      <th>impulsiveness</th>\n",
       "      <th>ss</th>\n",
       "      <th>alcohol</th>\n",
       "      <th>...</th>\n",
       "      <th>canada</th>\n",
       "      <th>new_zealand</th>\n",
       "      <th>ireland</th>\n",
       "      <th>uk</th>\n",
       "      <th>usa</th>\n",
       "      <th>male</th>\n",
       "      <th>female</th>\n",
       "      <th>depr_add_aggr</th>\n",
       "      <th>hall_add_aggr</th>\n",
       "      <th>stim_add_aggr</th>\n",
       "    </tr>\n",
       "  </thead>\n",
       "  <tbody>\n",
       "    <tr>\n",
       "      <th>0</th>\n",
       "      <td>0.49788</td>\n",
       "      <td>-0.05921</td>\n",
       "      <td>0.31287</td>\n",
       "      <td>-0.57545</td>\n",
       "      <td>-0.58331</td>\n",
       "      <td>-0.91699</td>\n",
       "      <td>-0.00665</td>\n",
       "      <td>-0.21712</td>\n",
       "      <td>-1.18084</td>\n",
       "      <td>5</td>\n",
       "      <td>...</td>\n",
       "      <td>0</td>\n",
       "      <td>0</td>\n",
       "      <td>0</td>\n",
       "      <td>1</td>\n",
       "      <td>0</td>\n",
       "      <td>0</td>\n",
       "      <td>1</td>\n",
       "      <td>0</td>\n",
       "      <td>0</td>\n",
       "      <td>0</td>\n",
       "    </tr>\n",
       "    <tr>\n",
       "      <th>1</th>\n",
       "      <td>-0.07854</td>\n",
       "      <td>1.98437</td>\n",
       "      <td>-0.67825</td>\n",
       "      <td>1.93886</td>\n",
       "      <td>1.43533</td>\n",
       "      <td>0.76096</td>\n",
       "      <td>-0.14277</td>\n",
       "      <td>-0.71126</td>\n",
       "      <td>-0.21575</td>\n",
       "      <td>5</td>\n",
       "      <td>...</td>\n",
       "      <td>0</td>\n",
       "      <td>0</td>\n",
       "      <td>0</td>\n",
       "      <td>1</td>\n",
       "      <td>0</td>\n",
       "      <td>1</td>\n",
       "      <td>0</td>\n",
       "      <td>0</td>\n",
       "      <td>0</td>\n",
       "      <td>1</td>\n",
       "    </tr>\n",
       "    <tr>\n",
       "      <th>2</th>\n",
       "      <td>0.49788</td>\n",
       "      <td>-0.05921</td>\n",
       "      <td>-0.46725</td>\n",
       "      <td>0.80523</td>\n",
       "      <td>-0.84732</td>\n",
       "      <td>-1.62090</td>\n",
       "      <td>-1.01450</td>\n",
       "      <td>-1.37983</td>\n",
       "      <td>0.40148</td>\n",
       "      <td>6</td>\n",
       "      <td>...</td>\n",
       "      <td>0</td>\n",
       "      <td>0</td>\n",
       "      <td>0</td>\n",
       "      <td>1</td>\n",
       "      <td>0</td>\n",
       "      <td>1</td>\n",
       "      <td>0</td>\n",
       "      <td>1</td>\n",
       "      <td>0</td>\n",
       "      <td>0</td>\n",
       "    </tr>\n",
       "    <tr>\n",
       "      <th>3</th>\n",
       "      <td>-0.95197</td>\n",
       "      <td>1.16365</td>\n",
       "      <td>-0.14882</td>\n",
       "      <td>-0.80615</td>\n",
       "      <td>-0.01928</td>\n",
       "      <td>0.59042</td>\n",
       "      <td>0.58489</td>\n",
       "      <td>-1.37983</td>\n",
       "      <td>-1.18084</td>\n",
       "      <td>4</td>\n",
       "      <td>...</td>\n",
       "      <td>0</td>\n",
       "      <td>0</td>\n",
       "      <td>0</td>\n",
       "      <td>1</td>\n",
       "      <td>0</td>\n",
       "      <td>0</td>\n",
       "      <td>1</td>\n",
       "      <td>0</td>\n",
       "      <td>0</td>\n",
       "      <td>0</td>\n",
       "    </tr>\n",
       "    <tr>\n",
       "      <th>4</th>\n",
       "      <td>0.49788</td>\n",
       "      <td>1.98437</td>\n",
       "      <td>0.73545</td>\n",
       "      <td>-1.63340</td>\n",
       "      <td>-0.45174</td>\n",
       "      <td>-0.30172</td>\n",
       "      <td>1.30612</td>\n",
       "      <td>-0.21712</td>\n",
       "      <td>-0.21575</td>\n",
       "      <td>4</td>\n",
       "      <td>...</td>\n",
       "      <td>0</td>\n",
       "      <td>0</td>\n",
       "      <td>0</td>\n",
       "      <td>1</td>\n",
       "      <td>0</td>\n",
       "      <td>0</td>\n",
       "      <td>1</td>\n",
       "      <td>0</td>\n",
       "      <td>0</td>\n",
       "      <td>0</td>\n",
       "    </tr>\n",
       "    <tr>\n",
       "      <th>...</th>\n",
       "      <td>...</td>\n",
       "      <td>...</td>\n",
       "      <td>...</td>\n",
       "      <td>...</td>\n",
       "      <td>...</td>\n",
       "      <td>...</td>\n",
       "      <td>...</td>\n",
       "      <td>...</td>\n",
       "      <td>...</td>\n",
       "      <td>...</td>\n",
       "      <td>...</td>\n",
       "      <td>...</td>\n",
       "      <td>...</td>\n",
       "      <td>...</td>\n",
       "      <td>...</td>\n",
       "      <td>...</td>\n",
       "      <td>...</td>\n",
       "      <td>...</td>\n",
       "      <td>...</td>\n",
       "      <td>...</td>\n",
       "      <td>...</td>\n",
       "    </tr>\n",
       "    <tr>\n",
       "      <th>1880</th>\n",
       "      <td>-0.95197</td>\n",
       "      <td>-0.61113</td>\n",
       "      <td>-1.19430</td>\n",
       "      <td>1.74091</td>\n",
       "      <td>1.88511</td>\n",
       "      <td>0.76096</td>\n",
       "      <td>-1.13788</td>\n",
       "      <td>0.88113</td>\n",
       "      <td>1.92173</td>\n",
       "      <td>5</td>\n",
       "      <td>...</td>\n",
       "      <td>0</td>\n",
       "      <td>0</td>\n",
       "      <td>0</td>\n",
       "      <td>0</td>\n",
       "      <td>1</td>\n",
       "      <td>0</td>\n",
       "      <td>1</td>\n",
       "      <td>1</td>\n",
       "      <td>1</td>\n",
       "      <td>0</td>\n",
       "    </tr>\n",
       "    <tr>\n",
       "      <th>1881</th>\n",
       "      <td>-0.95197</td>\n",
       "      <td>-0.61113</td>\n",
       "      <td>-0.24649</td>\n",
       "      <td>1.74091</td>\n",
       "      <td>0.58331</td>\n",
       "      <td>0.76096</td>\n",
       "      <td>-1.51840</td>\n",
       "      <td>0.88113</td>\n",
       "      <td>0.76540</td>\n",
       "      <td>5</td>\n",
       "      <td>...</td>\n",
       "      <td>0</td>\n",
       "      <td>0</td>\n",
       "      <td>0</td>\n",
       "      <td>0</td>\n",
       "      <td>1</td>\n",
       "      <td>1</td>\n",
       "      <td>0</td>\n",
       "      <td>0</td>\n",
       "      <td>2</td>\n",
       "      <td>1</td>\n",
       "    </tr>\n",
       "    <tr>\n",
       "      <th>1882</th>\n",
       "      <td>-0.07854</td>\n",
       "      <td>0.45468</td>\n",
       "      <td>1.13281</td>\n",
       "      <td>-1.37639</td>\n",
       "      <td>-1.27553</td>\n",
       "      <td>-1.77200</td>\n",
       "      <td>-1.38502</td>\n",
       "      <td>0.52975</td>\n",
       "      <td>-0.52593</td>\n",
       "      <td>4</td>\n",
       "      <td>...</td>\n",
       "      <td>0</td>\n",
       "      <td>0</td>\n",
       "      <td>0</td>\n",
       "      <td>0</td>\n",
       "      <td>1</td>\n",
       "      <td>0</td>\n",
       "      <td>1</td>\n",
       "      <td>2</td>\n",
       "      <td>1</td>\n",
       "      <td>2</td>\n",
       "    </tr>\n",
       "    <tr>\n",
       "      <th>1883</th>\n",
       "      <td>-0.95197</td>\n",
       "      <td>-0.61113</td>\n",
       "      <td>0.91093</td>\n",
       "      <td>-1.92173</td>\n",
       "      <td>0.29338</td>\n",
       "      <td>-1.62090</td>\n",
       "      <td>-2.57309</td>\n",
       "      <td>1.29221</td>\n",
       "      <td>1.22470</td>\n",
       "      <td>5</td>\n",
       "      <td>...</td>\n",
       "      <td>0</td>\n",
       "      <td>0</td>\n",
       "      <td>0</td>\n",
       "      <td>0</td>\n",
       "      <td>1</td>\n",
       "      <td>0</td>\n",
       "      <td>1</td>\n",
       "      <td>1</td>\n",
       "      <td>2</td>\n",
       "      <td>1</td>\n",
       "    </tr>\n",
       "    <tr>\n",
       "      <th>1884</th>\n",
       "      <td>-0.95197</td>\n",
       "      <td>-0.61113</td>\n",
       "      <td>-0.46725</td>\n",
       "      <td>2.12700</td>\n",
       "      <td>1.65653</td>\n",
       "      <td>1.11406</td>\n",
       "      <td>0.41594</td>\n",
       "      <td>0.88113</td>\n",
       "      <td>1.22470</td>\n",
       "      <td>4</td>\n",
       "      <td>...</td>\n",
       "      <td>0</td>\n",
       "      <td>0</td>\n",
       "      <td>1</td>\n",
       "      <td>0</td>\n",
       "      <td>0</td>\n",
       "      <td>1</td>\n",
       "      <td>0</td>\n",
       "      <td>0</td>\n",
       "      <td>2</td>\n",
       "      <td>2</td>\n",
       "    </tr>\n",
       "  </tbody>\n",
       "</table>\n",
       "<p>1885 rows × 46 columns</p>\n",
       "</div>"
      ],
      "text/plain": [
       "          age  education  n_score  e_score  o_score  a_score  c_score  \\\n",
       "0     0.49788   -0.05921  0.31287 -0.57545 -0.58331 -0.91699 -0.00665   \n",
       "1    -0.07854    1.98437 -0.67825  1.93886  1.43533  0.76096 -0.14277   \n",
       "2     0.49788   -0.05921 -0.46725  0.80523 -0.84732 -1.62090 -1.01450   \n",
       "3    -0.95197    1.16365 -0.14882 -0.80615 -0.01928  0.59042  0.58489   \n",
       "4     0.49788    1.98437  0.73545 -1.63340 -0.45174 -0.30172  1.30612   \n",
       "...       ...        ...      ...      ...      ...      ...      ...   \n",
       "1880 -0.95197   -0.61113 -1.19430  1.74091  1.88511  0.76096 -1.13788   \n",
       "1881 -0.95197   -0.61113 -0.24649  1.74091  0.58331  0.76096 -1.51840   \n",
       "1882 -0.07854    0.45468  1.13281 -1.37639 -1.27553 -1.77200 -1.38502   \n",
       "1883 -0.95197   -0.61113  0.91093 -1.92173  0.29338 -1.62090 -2.57309   \n",
       "1884 -0.95197   -0.61113 -0.46725  2.12700  1.65653  1.11406  0.41594   \n",
       "\n",
       "      impulsiveness       ss  alcohol  ...  canada  new_zealand  ireland  uk  \\\n",
       "0          -0.21712 -1.18084        5  ...       0            0        0   1   \n",
       "1          -0.71126 -0.21575        5  ...       0            0        0   1   \n",
       "2          -1.37983  0.40148        6  ...       0            0        0   1   \n",
       "3          -1.37983 -1.18084        4  ...       0            0        0   1   \n",
       "4          -0.21712 -0.21575        4  ...       0            0        0   1   \n",
       "...             ...      ...      ...  ...     ...          ...      ...  ..   \n",
       "1880        0.88113  1.92173        5  ...       0            0        0   0   \n",
       "1881        0.88113  0.76540        5  ...       0            0        0   0   \n",
       "1882        0.52975 -0.52593        4  ...       0            0        0   0   \n",
       "1883        1.29221  1.22470        5  ...       0            0        0   0   \n",
       "1884        0.88113  1.22470        4  ...       0            0        1   0   \n",
       "\n",
       "      usa  male  female  depr_add_aggr  hall_add_aggr  stim_add_aggr  \n",
       "0       0     0       1              0              0              0  \n",
       "1       0     1       0              0              0              1  \n",
       "2       0     1       0              1              0              0  \n",
       "3       0     0       1              0              0              0  \n",
       "4       0     0       1              0              0              0  \n",
       "...   ...   ...     ...            ...            ...            ...  \n",
       "1880    1     0       1              1              1              0  \n",
       "1881    1     1       0              0              2              1  \n",
       "1882    1     0       1              2              1              2  \n",
       "1883    1     0       1              1              2              1  \n",
       "1884    0     1       0              0              2              2  \n",
       "\n",
       "[1885 rows x 46 columns]"
      ]
     },
     "metadata": {},
     "output_type": "display_data"
    }
   ],
   "source": [
    "data = pd.read_csv('../data_processed/data_final_aggregates.csv')\n",
    "data.drop(columns = ['Unnamed: 0'], axis = 1, inplace = True)\n",
    "display(data)"
   ]
  },
  {
   "cell_type": "code",
   "execution_count": 240,
   "id": "8a34a9aa",
   "metadata": {},
   "outputs": [
    {
     "data": {
      "text/html": [
       "<div>\n",
       "<style scoped>\n",
       "    .dataframe tbody tr th:only-of-type {\n",
       "        vertical-align: middle;\n",
       "    }\n",
       "\n",
       "    .dataframe tbody tr th {\n",
       "        vertical-align: top;\n",
       "    }\n",
       "\n",
       "    .dataframe thead th {\n",
       "        text-align: right;\n",
       "    }\n",
       "</style>\n",
       "<table border=\"1\" class=\"dataframe\">\n",
       "  <thead>\n",
       "    <tr style=\"text-align: right;\">\n",
       "      <th></th>\n",
       "      <th>age</th>\n",
       "      <th>education</th>\n",
       "      <th>n_score</th>\n",
       "      <th>e_score</th>\n",
       "      <th>o_score</th>\n",
       "      <th>a_score</th>\n",
       "      <th>c_score</th>\n",
       "      <th>impulsiveness</th>\n",
       "      <th>ss</th>\n",
       "      <th>asian</th>\n",
       "      <th>...</th>\n",
       "      <th>australia</th>\n",
       "      <th>canada</th>\n",
       "      <th>new_zealand</th>\n",
       "      <th>ireland</th>\n",
       "      <th>uk</th>\n",
       "      <th>usa</th>\n",
       "      <th>female</th>\n",
       "      <th>depr_add_aggr</th>\n",
       "      <th>hall_add_aggr</th>\n",
       "      <th>stim_add_aggr</th>\n",
       "    </tr>\n",
       "  </thead>\n",
       "  <tbody>\n",
       "    <tr>\n",
       "      <th>0</th>\n",
       "      <td>0.49788</td>\n",
       "      <td>-0.05921</td>\n",
       "      <td>0.31287</td>\n",
       "      <td>-0.57545</td>\n",
       "      <td>-0.58331</td>\n",
       "      <td>-0.91699</td>\n",
       "      <td>-0.00665</td>\n",
       "      <td>-0.21712</td>\n",
       "      <td>-1.18084</td>\n",
       "      <td>0</td>\n",
       "      <td>...</td>\n",
       "      <td>0</td>\n",
       "      <td>0</td>\n",
       "      <td>0</td>\n",
       "      <td>0</td>\n",
       "      <td>1</td>\n",
       "      <td>0</td>\n",
       "      <td>1</td>\n",
       "      <td>0</td>\n",
       "      <td>0</td>\n",
       "      <td>0</td>\n",
       "    </tr>\n",
       "    <tr>\n",
       "      <th>1</th>\n",
       "      <td>-0.07854</td>\n",
       "      <td>1.98437</td>\n",
       "      <td>-0.67825</td>\n",
       "      <td>1.93886</td>\n",
       "      <td>1.43533</td>\n",
       "      <td>0.76096</td>\n",
       "      <td>-0.14277</td>\n",
       "      <td>-0.71126</td>\n",
       "      <td>-0.21575</td>\n",
       "      <td>0</td>\n",
       "      <td>...</td>\n",
       "      <td>0</td>\n",
       "      <td>0</td>\n",
       "      <td>0</td>\n",
       "      <td>0</td>\n",
       "      <td>1</td>\n",
       "      <td>0</td>\n",
       "      <td>0</td>\n",
       "      <td>0</td>\n",
       "      <td>0</td>\n",
       "      <td>1</td>\n",
       "    </tr>\n",
       "    <tr>\n",
       "      <th>2</th>\n",
       "      <td>0.49788</td>\n",
       "      <td>-0.05921</td>\n",
       "      <td>-0.46725</td>\n",
       "      <td>0.80523</td>\n",
       "      <td>-0.84732</td>\n",
       "      <td>-1.62090</td>\n",
       "      <td>-1.01450</td>\n",
       "      <td>-1.37983</td>\n",
       "      <td>0.40148</td>\n",
       "      <td>0</td>\n",
       "      <td>...</td>\n",
       "      <td>0</td>\n",
       "      <td>0</td>\n",
       "      <td>0</td>\n",
       "      <td>0</td>\n",
       "      <td>1</td>\n",
       "      <td>0</td>\n",
       "      <td>0</td>\n",
       "      <td>1</td>\n",
       "      <td>0</td>\n",
       "      <td>0</td>\n",
       "    </tr>\n",
       "    <tr>\n",
       "      <th>3</th>\n",
       "      <td>-0.95197</td>\n",
       "      <td>1.16365</td>\n",
       "      <td>-0.14882</td>\n",
       "      <td>-0.80615</td>\n",
       "      <td>-0.01928</td>\n",
       "      <td>0.59042</td>\n",
       "      <td>0.58489</td>\n",
       "      <td>-1.37983</td>\n",
       "      <td>-1.18084</td>\n",
       "      <td>0</td>\n",
       "      <td>...</td>\n",
       "      <td>0</td>\n",
       "      <td>0</td>\n",
       "      <td>0</td>\n",
       "      <td>0</td>\n",
       "      <td>1</td>\n",
       "      <td>0</td>\n",
       "      <td>1</td>\n",
       "      <td>0</td>\n",
       "      <td>0</td>\n",
       "      <td>0</td>\n",
       "    </tr>\n",
       "    <tr>\n",
       "      <th>4</th>\n",
       "      <td>0.49788</td>\n",
       "      <td>1.98437</td>\n",
       "      <td>0.73545</td>\n",
       "      <td>-1.63340</td>\n",
       "      <td>-0.45174</td>\n",
       "      <td>-0.30172</td>\n",
       "      <td>1.30612</td>\n",
       "      <td>-0.21712</td>\n",
       "      <td>-0.21575</td>\n",
       "      <td>0</td>\n",
       "      <td>...</td>\n",
       "      <td>0</td>\n",
       "      <td>0</td>\n",
       "      <td>0</td>\n",
       "      <td>0</td>\n",
       "      <td>1</td>\n",
       "      <td>0</td>\n",
       "      <td>1</td>\n",
       "      <td>0</td>\n",
       "      <td>0</td>\n",
       "      <td>0</td>\n",
       "    </tr>\n",
       "    <tr>\n",
       "      <th>...</th>\n",
       "      <td>...</td>\n",
       "      <td>...</td>\n",
       "      <td>...</td>\n",
       "      <td>...</td>\n",
       "      <td>...</td>\n",
       "      <td>...</td>\n",
       "      <td>...</td>\n",
       "      <td>...</td>\n",
       "      <td>...</td>\n",
       "      <td>...</td>\n",
       "      <td>...</td>\n",
       "      <td>...</td>\n",
       "      <td>...</td>\n",
       "      <td>...</td>\n",
       "      <td>...</td>\n",
       "      <td>...</td>\n",
       "      <td>...</td>\n",
       "      <td>...</td>\n",
       "      <td>...</td>\n",
       "      <td>...</td>\n",
       "      <td>...</td>\n",
       "    </tr>\n",
       "    <tr>\n",
       "      <th>1880</th>\n",
       "      <td>-0.95197</td>\n",
       "      <td>-0.61113</td>\n",
       "      <td>-1.19430</td>\n",
       "      <td>1.74091</td>\n",
       "      <td>1.88511</td>\n",
       "      <td>0.76096</td>\n",
       "      <td>-1.13788</td>\n",
       "      <td>0.88113</td>\n",
       "      <td>1.92173</td>\n",
       "      <td>0</td>\n",
       "      <td>...</td>\n",
       "      <td>0</td>\n",
       "      <td>0</td>\n",
       "      <td>0</td>\n",
       "      <td>0</td>\n",
       "      <td>0</td>\n",
       "      <td>1</td>\n",
       "      <td>1</td>\n",
       "      <td>1</td>\n",
       "      <td>1</td>\n",
       "      <td>0</td>\n",
       "    </tr>\n",
       "    <tr>\n",
       "      <th>1881</th>\n",
       "      <td>-0.95197</td>\n",
       "      <td>-0.61113</td>\n",
       "      <td>-0.24649</td>\n",
       "      <td>1.74091</td>\n",
       "      <td>0.58331</td>\n",
       "      <td>0.76096</td>\n",
       "      <td>-1.51840</td>\n",
       "      <td>0.88113</td>\n",
       "      <td>0.76540</td>\n",
       "      <td>0</td>\n",
       "      <td>...</td>\n",
       "      <td>0</td>\n",
       "      <td>0</td>\n",
       "      <td>0</td>\n",
       "      <td>0</td>\n",
       "      <td>0</td>\n",
       "      <td>1</td>\n",
       "      <td>0</td>\n",
       "      <td>0</td>\n",
       "      <td>2</td>\n",
       "      <td>1</td>\n",
       "    </tr>\n",
       "    <tr>\n",
       "      <th>1882</th>\n",
       "      <td>-0.07854</td>\n",
       "      <td>0.45468</td>\n",
       "      <td>1.13281</td>\n",
       "      <td>-1.37639</td>\n",
       "      <td>-1.27553</td>\n",
       "      <td>-1.77200</td>\n",
       "      <td>-1.38502</td>\n",
       "      <td>0.52975</td>\n",
       "      <td>-0.52593</td>\n",
       "      <td>0</td>\n",
       "      <td>...</td>\n",
       "      <td>0</td>\n",
       "      <td>0</td>\n",
       "      <td>0</td>\n",
       "      <td>0</td>\n",
       "      <td>0</td>\n",
       "      <td>1</td>\n",
       "      <td>1</td>\n",
       "      <td>2</td>\n",
       "      <td>1</td>\n",
       "      <td>2</td>\n",
       "    </tr>\n",
       "    <tr>\n",
       "      <th>1883</th>\n",
       "      <td>-0.95197</td>\n",
       "      <td>-0.61113</td>\n",
       "      <td>0.91093</td>\n",
       "      <td>-1.92173</td>\n",
       "      <td>0.29338</td>\n",
       "      <td>-1.62090</td>\n",
       "      <td>-2.57309</td>\n",
       "      <td>1.29221</td>\n",
       "      <td>1.22470</td>\n",
       "      <td>0</td>\n",
       "      <td>...</td>\n",
       "      <td>0</td>\n",
       "      <td>0</td>\n",
       "      <td>0</td>\n",
       "      <td>0</td>\n",
       "      <td>0</td>\n",
       "      <td>1</td>\n",
       "      <td>1</td>\n",
       "      <td>1</td>\n",
       "      <td>2</td>\n",
       "      <td>1</td>\n",
       "    </tr>\n",
       "    <tr>\n",
       "      <th>1884</th>\n",
       "      <td>-0.95197</td>\n",
       "      <td>-0.61113</td>\n",
       "      <td>-0.46725</td>\n",
       "      <td>2.12700</td>\n",
       "      <td>1.65653</td>\n",
       "      <td>1.11406</td>\n",
       "      <td>0.41594</td>\n",
       "      <td>0.88113</td>\n",
       "      <td>1.22470</td>\n",
       "      <td>0</td>\n",
       "      <td>...</td>\n",
       "      <td>0</td>\n",
       "      <td>0</td>\n",
       "      <td>0</td>\n",
       "      <td>1</td>\n",
       "      <td>0</td>\n",
       "      <td>0</td>\n",
       "      <td>0</td>\n",
       "      <td>0</td>\n",
       "      <td>2</td>\n",
       "      <td>2</td>\n",
       "    </tr>\n",
       "  </tbody>\n",
       "</table>\n",
       "<p>1885 rows × 26 columns</p>\n",
       "</div>"
      ],
      "text/plain": [
       "          age  education  n_score  e_score  o_score  a_score  c_score  \\\n",
       "0     0.49788   -0.05921  0.31287 -0.57545 -0.58331 -0.91699 -0.00665   \n",
       "1    -0.07854    1.98437 -0.67825  1.93886  1.43533  0.76096 -0.14277   \n",
       "2     0.49788   -0.05921 -0.46725  0.80523 -0.84732 -1.62090 -1.01450   \n",
       "3    -0.95197    1.16365 -0.14882 -0.80615 -0.01928  0.59042  0.58489   \n",
       "4     0.49788    1.98437  0.73545 -1.63340 -0.45174 -0.30172  1.30612   \n",
       "...       ...        ...      ...      ...      ...      ...      ...   \n",
       "1880 -0.95197   -0.61113 -1.19430  1.74091  1.88511  0.76096 -1.13788   \n",
       "1881 -0.95197   -0.61113 -0.24649  1.74091  0.58331  0.76096 -1.51840   \n",
       "1882 -0.07854    0.45468  1.13281 -1.37639 -1.27553 -1.77200 -1.38502   \n",
       "1883 -0.95197   -0.61113  0.91093 -1.92173  0.29338 -1.62090 -2.57309   \n",
       "1884 -0.95197   -0.61113 -0.46725  2.12700  1.65653  1.11406  0.41594   \n",
       "\n",
       "      impulsiveness       ss  asian  ...  australia  canada  new_zealand  \\\n",
       "0          -0.21712 -1.18084      0  ...          0       0            0   \n",
       "1          -0.71126 -0.21575      0  ...          0       0            0   \n",
       "2          -1.37983  0.40148      0  ...          0       0            0   \n",
       "3          -1.37983 -1.18084      0  ...          0       0            0   \n",
       "4          -0.21712 -0.21575      0  ...          0       0            0   \n",
       "...             ...      ...    ...  ...        ...     ...          ...   \n",
       "1880        0.88113  1.92173      0  ...          0       0            0   \n",
       "1881        0.88113  0.76540      0  ...          0       0            0   \n",
       "1882        0.52975 -0.52593      0  ...          0       0            0   \n",
       "1883        1.29221  1.22470      0  ...          0       0            0   \n",
       "1884        0.88113  1.22470      0  ...          0       0            0   \n",
       "\n",
       "      ireland  uk  usa  female  depr_add_aggr  hall_add_aggr  stim_add_aggr  \n",
       "0           0   1    0       1              0              0              0  \n",
       "1           0   1    0       0              0              0              1  \n",
       "2           0   1    0       0              1              0              0  \n",
       "3           0   1    0       1              0              0              0  \n",
       "4           0   1    0       1              0              0              0  \n",
       "...       ...  ..  ...     ...            ...            ...            ...  \n",
       "1880        0   0    1       1              1              1              0  \n",
       "1881        0   0    1       0              0              2              1  \n",
       "1882        0   0    1       1              2              1              2  \n",
       "1883        0   0    1       1              1              2              1  \n",
       "1884        1   0    0       0              0              2              2  \n",
       "\n",
       "[1885 rows x 26 columns]"
      ]
     },
     "execution_count": 240,
     "metadata": {},
     "output_type": "execute_result"
    }
   ],
   "source": [
    "substances = ['alcohol','anphet', 'amyl', 'benzo', 'caffeine', 'cannabis', \n",
    "              'chocolate', 'cocaine', 'crack', 'ecstasy', 'heroine', 'ketamine', \n",
    "              'legal_h', 'lsd', 'meth', 'mushrooms', 'nicotine', 'semer', 'vsa', 'male']\n",
    "data.drop(columns=substances, inplace=True, axis=1)\n",
    "data"
   ]
  },
  {
   "cell_type": "code",
   "execution_count": 241,
   "id": "043661e4",
   "metadata": {},
   "outputs": [
    {
     "data": {
      "text/plain": [
       "Text(0.5, 1.0, 'Stimulants mutual information')"
      ]
     },
     "execution_count": 241,
     "metadata": {},
     "output_type": "execute_result"
    },
    {
     "data": {
      "image/png": "[encoded data removed]",
      "text/plain": [
       "<Figure size 2160x432 with 1 Axes>"
      ]
     },
     "metadata": {
      "needs_background": "light"
     },
     "output_type": "display_data"
    }
   ],
   "source": [
    "# where more information is stored (I think, does someone know it better?)\n",
    "\n",
    "data[dt].replace(2,1, inplace = True) #just 2 classes not three\n",
    "X_train, X_test, y_train, y_test = train_test_split(data.drop(columns = ['hall_add_aggr','stim_add_aggr', 'depr_add_aggr'], axis=1), \n",
    "                                                    data[dt], test_size=0.25, random_state=0)\n",
    "\n",
    "mi = mutual_info_classif(X_train, y_train)\n",
    "mi = pd.Series(mi)\n",
    "mi.index = X_train.columns\n",
    "mi.sort_values(ascending=False).plot.bar(figsize=(30, 6))\n",
    "plt.ylabel('Mutual Information')\n",
    "plt.title('Stimulants mutual information')"
   ]
  },
  {
   "cell_type": "markdown",
   "id": "ad9216be",
   "metadata": {},
   "source": [
    "## Balance class"
   ]
  },
  {
   "cell_type": "code",
   "execution_count": 242,
   "id": "72d25b68",
   "metadata": {},
   "outputs": [
    {
     "data": {
      "text/plain": [
       "0    868\n",
       "1    868\n",
       "Name: stim_add_aggr, dtype: int64"
      ]
     },
     "execution_count": 242,
     "metadata": {},
     "output_type": "execute_result"
    }
   ],
   "source": [
    "import imblearn\n",
    "from imblearn.over_sampling import SMOTE\n",
    "\n",
    "oversample = SMOTE()\n",
    "X_train, y_train = oversample.fit_resample(X_train, y_train)\n",
    "y_train.value_counts()"
   ]
  },
  {
   "cell_type": "markdown",
   "id": "ffed4529",
   "metadata": {},
   "source": [
    "# Logistic regression"
   ]
  },
  {
   "cell_type": "code",
   "execution_count": 243,
   "id": "8b437cdf",
   "metadata": {},
   "outputs": [
    {
     "name": "stdout",
     "output_type": "stream",
     "text": [
      "MCC score: 0.5115105663091939\n"
     ]
    },
    {
     "data": {
      "image/png": "[encoded data removed]",
      "text/plain": [
       "<Figure size 540x540 with 1 Axes>"
      ]
     },
     "metadata": {
      "needs_background": "light"
     },
     "output_type": "display_data"
    },
    {
     "data": {
      "text/plain": [
       "array([[-0.78470173, -0.13082263,  0.07121065,  0.10934706,  0.26375047,\n",
       "        -0.01170085, -0.27932907, -0.0621362 ,  0.56225681, -0.39432942,\n",
       "        -1.55275977, -0.28076159, -0.22537497, -1.76226509, -0.18851027,\n",
       "        -1.34055191, -0.75738531, -1.18760734, -2.31004146, -0.85796307,\n",
       "        -2.1441515 , -0.69962986, -0.86710841]])"
      ]
     },
     "execution_count": 243,
     "metadata": {},
     "output_type": "execute_result"
    }
   ],
   "source": [
    "#training \n",
    "model = LogisticRegression(random_state = 0, max_iter=10000)\n",
    "model.fit(X_train, y_train)\n",
    "\n",
    "#prediction\n",
    "y_pred = model.predict(X_test)\n",
    "MCC1 = matthews_corrcoef(y_test, y_pred)\n",
    "print(f\"MCC score: {MCC1}\")\n",
    "\n",
    "cm1 = confusion_matrix(y_test, y_pred)\n",
    "\n",
    "fig, ax = plt.subplots(figsize=(7.5, 7.5))\n",
    "ax.matshow(cm1, cmap=plt.cm.Blues, alpha=0.3)\n",
    "for i in range(cm1.shape[0]):\n",
    "    for j in range(cm1.shape[1]):\n",
    "        ax.text(x=j, y=i,s=cm1[i, j], va='center', ha='center', size='xx-large')\n",
    "\n",
    "        \n",
    "txt= 'MCC:' + str(MCC1)\n",
    "\n",
    "plt.xlabel('Predictions', fontsize=18)\n",
    "plt.ylabel('Actuals', fontsize=18)\n",
    "plt.title('Confusion Matrix logistic regression', fontsize=18)\n",
    "plt.figtext(0.5, 0.01, txt, wrap=True, horizontalalignment='center', fontsize=12)\n",
    "plt.show()\n",
    "#fig.savefig('../img/' + dt + 'confusion_matrix_stim_log_reg.png') just for the mid term report\n",
    "\n",
    "model.coef_"
   ]
  },
  {
   "cell_type": "code",
   "execution_count": null,
   "id": "e4893831",
   "metadata": {},
   "outputs": [],
   "source": []
  },
  {
   "cell_type": "code",
   "execution_count": 244,
   "id": "47aecbcb",
   "metadata": {},
   "outputs": [
    {
     "data": {
      "text/plain": [
       "<zip at 0x1ba0d412840>"
      ]
     },
     "execution_count": 244,
     "metadata": {},
     "output_type": "execute_result"
    }
   ],
   "source": [
    "(zip(list(X_train.columns),list(model.coef_)))"
   ]
  },
  {
   "cell_type": "code",
   "execution_count": 245,
   "id": "e5cae846",
   "metadata": {},
   "outputs": [
    {
     "data": {
      "text/plain": [
       "[('age', -0.7847017306310177),\n",
       " ('education', -0.13082263361266494),\n",
       " ('n_score', 0.07121065372222679),\n",
       " ('e_score', 0.10934706012235032),\n",
       " ('o_score', 0.2637504672102072),\n",
       " ('a_score', -0.011700848874839982),\n",
       " ('c_score', -0.2793290722962677),\n",
       " ('impulsiveness', -0.0621362000723062),\n",
       " ('ss', 0.5622568053142512),\n",
       " ('asian', -0.39432941735529187),\n",
       " ('black_asian', -1.552759767727506),\n",
       " ('white_asian', -0.2807615880370265),\n",
       " ('white_black', -0.22537496826036219),\n",
       " ('other', -1.7622650910160262),\n",
       " ('white', -0.18851026518260197),\n",
       " ('other2', -1.3405519066100926),\n",
       " ('australia', -0.757385306644536),\n",
       " ('canada', -1.1876073357185186),\n",
       " ('new_zealand', -2.310041458294662),\n",
       " ('ireland', -0.8579630737526202),\n",
       " ('uk', -2.14415150225897),\n",
       " ('usa', -0.6996298591515324),\n",
       " ('female', -0.8671084117189758)]"
      ]
     },
     "execution_count": 245,
     "metadata": {},
     "output_type": "execute_result"
    }
   ],
   "source": [
    "zippato = list(zip(list(X_train.columns), model.coef_.tolist()[0]))\n",
    "\n",
    "zippato"
   ]
  },
  {
   "cell_type": "code",
   "execution_count": 170,
   "id": "85849be3",
   "metadata": {},
   "outputs": [
    {
     "name": "stdout",
     "output_type": "stream",
     "text": [
      "F1: 0.690 (0.018)\n"
     ]
    }
   ],
   "source": [
    "cv = KFold(n_splits=5, random_state=1, shuffle=True) # more than 6 --> overfit\n",
    "scores = cross_val_score(model, data.drop(columns = [ 'hall_add_aggr','stim_add_aggr', 'depr_add_aggr'], axis=1), \n",
    "                         data[dt], scoring='f1', cv=cv, n_jobs=-1)\n",
    "\n",
    "\n",
    "print('F1: %.3f (%.3f)' % (np.mean(scores), np.std(scores)))"
   ]
  },
  {
   "cell_type": "markdown",
   "id": "b240f394",
   "metadata": {},
   "source": [
    "# SVM"
   ]
  },
  {
   "cell_type": "code",
   "execution_count": 171,
   "id": "86ac4f6a",
   "metadata": {},
   "outputs": [
    {
     "name": "stdout",
     "output_type": "stream",
     "text": [
      "SVM method: linear \n",
      "\n",
      "MCC linear is: 0.4015727210221845\n"
     ]
    },
    {
     "data": {
      "image/png": "[encoded data removed]",
      "text/plain": [
       "<Figure size 540x540 with 1 Axes>"
      ]
     },
     "metadata": {
      "needs_background": "light"
     },
     "output_type": "display_data"
    },
    {
     "name": "stdout",
     "output_type": "stream",
     "text": [
      "F1 K-Fold: 0.755 (0.013)\n",
      "\n",
      "\n",
      "SVM method: poly \n",
      "\n",
      "MCC poly is: 0.43418097494610447\n"
     ]
    },
    {
     "data": {
      "image/png": "[encoded data removed]",
      "text/plain": [
       "<Figure size 540x540 with 1 Axes>"
      ]
     },
     "metadata": {
      "needs_background": "light"
     },
     "output_type": "display_data"
    },
    {
     "name": "stdout",
     "output_type": "stream",
     "text": [
      "F1 K-Fold: 0.755 (0.017)\n",
      "\n",
      "\n",
      "SVM method: rbf \n",
      "\n",
      "MCC rbf is: 0.4888539670021603\n"
     ]
    },
    {
     "data": {
      "image/png": "[encoded data removed]",
      "text/plain": [
       "<Figure size 540x540 with 1 Axes>"
      ]
     },
     "metadata": {
      "needs_background": "light"
     },
     "output_type": "display_data"
    },
    {
     "name": "stdout",
     "output_type": "stream",
     "text": [
      "F1 K-Fold: 0.745 (0.022)\n",
      "\n",
      "\n",
      "SVM method: sigmoid \n",
      "\n",
      "MCC sigmoid is: 0.328656228074747\n"
     ]
    },
    {
     "data": {
      "image/png": "[encoded data removed]",
      "text/plain": [
       "<Figure size 540x540 with 1 Axes>"
      ]
     },
     "metadata": {
      "needs_background": "light"
     },
     "output_type": "display_data"
    },
    {
     "name": "stdout",
     "output_type": "stream",
     "text": [
      "F1 K-Fold: 0.690 (0.018)\n",
      "\n",
      "\n"
     ]
    }
   ],
   "source": [
    "from sklearn.svm import SVC\n",
    "\n",
    "for kern in ['linear', 'poly', 'rbf', 'sigmoid']: #try all different Kernel method\n",
    "    print(f'SVM method: {kern} \\n')\n",
    "    title = 'Confusion Matrix kernel ' + kern\n",
    "    model = SVC(kernel = kern, random_state = 0)\n",
    "    model.fit(X_train, y_train)\n",
    "    y_pred = model.predict(X_test)\n",
    "    MCC = matthews_corrcoef(y_test, y_pred)\n",
    "    print(f\"MCC {kern} is: {MCC}\")\n",
    "    #spec1 = specificity(y_test, y_pred)\n",
    "    #print(f\"Specificity score: {spec1}\") #not sure it is correct\n",
    "    cm1 = confusion_matrix(y_test, y_pred) \n",
    "    fig, ax = plt.subplots(figsize=(7.5, 7.5))\n",
    "    ax.matshow(cm1, cmap=plt.cm.Blues, alpha=0.3)\n",
    "    for i in range(cm1.shape[0]):\n",
    "        for j in range(cm1.shape[1]):\n",
    "            ax.text(x=j, y=i,s=cm1[i, j], va='center', ha='center', size='xx-large')\n",
    "\n",
    "    plt.xlabel('Predictions', fontsize=18)\n",
    "    plt.ylabel('Actuals', fontsize=18)\n",
    "    plt.title(title , fontsize=18)\n",
    "    plt.show() #doesn't work boh\n",
    "    \n",
    "    cv = KFold(n_splits=5, random_state=1, shuffle=True) # more than 6 --> overfit\n",
    "    scores = cross_val_score(model, data.drop(columns = [ 'hall_add_aggr','stim_add_aggr', 'depr_add_aggr'], axis=1), \n",
    "                         data[dt], scoring='f1', cv=cv, n_jobs=-1)\n",
    "\n",
    "    # report performance\n",
    "    print('F1 K-Fold: %.3f (%.3f)' % (np.mean(scores), np.std(scores)))\n",
    "    print('\\n')\n",
    "    \n",
    "    #fig.savefig('../img/' + dt + 'confusion_matrix_stim_svm.png') just for the mid term report"
   ]
  },
  {
   "cell_type": "markdown",
   "id": "894717ac",
   "metadata": {},
   "source": [
    "#  K-Neighboors Classifier"
   ]
  },
  {
   "cell_type": "code",
   "execution_count": 160,
   "id": "a8d42f1c",
   "metadata": {},
   "outputs": [
    {
     "name": "stdout",
     "output_type": "stream",
     "text": [
      "MCC3: 0.39698502612714925\n"
     ]
    }
   ],
   "source": [
    "from sklearn.neighbors import KNeighborsClassifier\n",
    "\n",
    "#it stopped word bohhh. It isn't working with categories, change to int\n",
    "\n",
    "# facoultative: create a function to convert categories to number\n",
    "#smart solution: re run the functio hahahha :)   \n",
    "    \n",
    "model = KNeighborsClassifier(n_neighbors = 9, metric = 'minkowski', p = 2)\n",
    "model.fit(X_train, y_train)\n",
    "y_pred = model.predict(X_test)\n",
    "#print(y_train)\n",
    "MCC3 = matthews_corrcoef(y_test, y_pred)\n",
    "print(f\"MCC3: {MCC3}\")\n",
    "\n",
    "#no k-folding (is it necessary?) I have done it, it's crap\n",
    "\n",
    "#fig.savefig('../img/' + dt + 'confusion_matrix_stim_k_neigh.png') just for the mid term report"
   ]
  },
  {
   "cell_type": "code",
   "execution_count": 161,
   "id": "d226f47d",
   "metadata": {},
   "outputs": [
    {
     "name": "stdout",
     "output_type": "stream",
     "text": [
      "F1 K-neigh: 0.732 (0.023)\n"
     ]
    }
   ],
   "source": [
    "cv = KFold(n_splits=5, random_state=1, shuffle=True) # more than 6 --> overfit\n",
    "scores = cross_val_score(model, data.drop(columns = [ 'hall_add_aggr','stim_add_aggr', 'depr_add_aggr'], axis=1), \n",
    "                         data[dt], scoring='f1', cv=cv, n_jobs=-1)\n",
    "# report performance\n",
    "print('F1 K-neigh: %.3f (%.3f)' % (np.mean(scores), np.std(scores)))"
   ]
  },
  {
   "cell_type": "markdown",
   "id": "83a252c3",
   "metadata": {},
   "source": [
    "# Decision Tree"
   ]
  },
  {
   "cell_type": "code",
   "execution_count": 162,
   "id": "3676aa29",
   "metadata": {},
   "outputs": [
    {
     "name": "stdout",
     "output_type": "stream",
     "text": [
      "MCC: 0.2293332377778375\n"
     ]
    }
   ],
   "source": [
    "from sklearn.tree import DecisionTreeClassifier\n",
    "\n",
    "model = DecisionTreeClassifier(criterion = 'entropy', random_state = 0)\n",
    "model.fit(X_train, y_train)\n",
    "y_pred = model.predict(X_test)\n",
    "MCC4 = matthews_corrcoef(y_test, y_pred)\n",
    "print(f\"MCC: {MCC4}\")\n",
    "\n",
    "#fig.savefig('../img/' + dt + 'confusion_matrix_stim_dec_trees.png') just for the mid term report\n"
   ]
  },
  {
   "cell_type": "code",
   "execution_count": 163,
   "id": "975c114c",
   "metadata": {},
   "outputs": [
    {
     "name": "stdout",
     "output_type": "stream",
     "text": [
      "F1 Decision Tree: 0.678 (0.013)\n"
     ]
    }
   ],
   "source": [
    "cv = KFold(n_splits=5, random_state=1, shuffle=True) # more than 6 --> overfit\n",
    "scores = cross_val_score(model, data.drop(columns = [ 'hall_add_aggr','stim_add_aggr', 'depr_add_aggr'], axis=1), \n",
    "                         data[dt], scoring='f1', cv=cv, n_jobs=-1)\n",
    "# report performance\n",
    "print('F1 Decision Tree: %.3f (%.3f)' % (np.mean(scores), np.std(scores)))"
   ]
  },
  {
   "cell_type": "markdown",
   "id": "199e9ed2",
   "metadata": {},
   "source": [
    "# XGboost"
   ]
  },
  {
   "cell_type": "code",
   "execution_count": 164,
   "id": "a3b6ea17",
   "metadata": {},
   "outputs": [],
   "source": [
    "import xgboost as xgb"
   ]
  },
  {
   "cell_type": "code",
   "execution_count": 165,
   "id": "832732ac",
   "metadata": {},
   "outputs": [
    {
     "name": "stderr",
     "output_type": "stream",
     "text": [
      "C:\\Users\\Francesca\\anaconda3\\lib\\site-packages\\xgboost\\sklearn.py:1224: UserWarning: The use of label encoder in XGBClassifier is deprecated and will be removed in a future release. To remove this warning, do the following: 1) Pass option use_label_encoder=False when constructing XGBClassifier object; and 2) Encode your labels (y) as integers starting with 0, i.e. 0, 1, 2, ..., [num_class - 1].\n",
      "  warnings.warn(label_encoder_deprecation_msg, UserWarning)\n"
     ]
    },
    {
     "name": "stdout",
     "output_type": "stream",
     "text": [
      "[14:14:42] WARNING: C:/Users/Administrator/workspace/xgboost-win64_release_1.5.1/src/learner.cc:1115: Starting in XGBoost 1.3.0, the default evaluation metric used with the objective 'binary:logistic' was changed from 'error' to 'logloss'. Explicitly set eval_metric if you'd like to restore the old behavior.\n"
     ]
    },
    {
     "data": {
      "image/png": "[encoded data removed]",
      "text/plain": [
       "<Figure size 540x540 with 1 Axes>"
      ]
     },
     "metadata": {
      "needs_background": "light"
     },
     "output_type": "display_data"
    },
    {
     "name": "stdout",
     "output_type": "stream",
     "text": [
      "N train : 1548; N test : 566\n",
      "MCC5: 0.33792120399621645\n",
      "Running time: 0.6438906192779541\n"
     ]
    }
   ],
   "source": [
    "import time\n",
    "\n",
    "tic = time.time()\n",
    "\n",
    "xgb_model = xgb.XGBClassifier(objective=\"binary:logistic\", random_state=42)\n",
    "X_train, X_test, y_train, y_test = train_test_split(data.drop(columns = [ 'hall_add_aggr','stim_add_aggr', 'depr_add_aggr'], axis=1), \n",
    "                                                   data[dt], test_size=0.3, random_state=0)\n",
    "\n",
    "oversample = SMOTE()\n",
    "X_train, y_train = oversample.fit_resample(X_train, y_train)\n",
    "\n",
    "title = 'Confusion Matrix XG-Boost'    \n",
    "    \n",
    "#X_train = data.drop(columns = [ 'hall_add_aggr','stim_add_aggr', 'depr_add_aggr'], axis = 1)[:1319]\n",
    "#y_train = data['stim_add_aggr'][:1319].tolist()\n",
    "\n",
    "xgb_model.fit(X_train,y_train)\n",
    "\n",
    "#X_test = data.drop(columns = [ 'hall_add_aggr','stim_add_aggr', 'depr_add_aggr'], axis = 1)[1319:]\n",
    "#y_test = data['stim_add_aggr'][1319:].tolist()\n",
    "\n",
    "y_pred = xgb_model.predict(X_test)\n",
    "\n",
    "#print(y_train)\n",
    "cm1 = confusion_matrix(y_test, y_pred) \n",
    "fig, ax = plt.subplots(figsize=(7.5, 7.5))\n",
    "ax.matshow(cm1, cmap=plt.cm.Blues, alpha=0.3)\n",
    "for i in range(cm1.shape[0]):\n",
    "    for j in range(cm1.shape[1]):\n",
    "        ax.text(x=j, y=i,s=cm1[i, j], va='center', ha='center', size='xx-large')\n",
    "\n",
    "plt.xlabel('Predictions', fontsize=18)\n",
    "plt.ylabel('Actuals', fontsize=18)\n",
    "plt.title(title , fontsize=18)\n",
    "plt.show() #doesn't work boh\n",
    "\n",
    "print(f'N train : {len(X_train)}; N test : {len(X_test)}')\n",
    "\n",
    "\n",
    "MCC5 = matthews_corrcoef(y_test, y_pred)\n",
    "print(f\"MCC5: {MCC5}\")\n",
    "#print(f\"MCC: {MCC_xg}\")\n",
    "\n",
    "tac = time.time()\n",
    "\n",
    "running_time = tac-tic\n",
    "\n",
    "print(f'Running time: {running_time}')\n",
    "\n",
    "#fig.savefig('../img/' + dt + 'confusion_matrix_stim_xg_boost.png') just for the mid term report"
   ]
  },
  {
   "cell_type": "code",
   "execution_count": 166,
   "id": "ac8f0c82",
   "metadata": {},
   "outputs": [
    {
     "name": "stderr",
     "output_type": "stream",
     "text": [
      "C:\\Users\\Francesca\\anaconda3\\lib\\site-packages\\xgboost\\sklearn.py:1224: UserWarning: The use of label encoder in XGBClassifier is deprecated and will be removed in a future release. To remove this warning, do the following: 1) Pass option use_label_encoder=False when constructing XGBClassifier object; and 2) Encode your labels (y) as integers starting with 0, i.e. 0, 1, 2, ..., [num_class - 1].\n",
      "  warnings.warn(label_encoder_deprecation_msg, UserWarning)\n"
     ]
    },
    {
     "name": "stdout",
     "output_type": "stream",
     "text": [
      "[14:14:47] WARNING: C:/Users/Administrator/workspace/xgboost-win64_release_1.5.1/src/learner.cc:1115: Starting in XGBoost 1.3.0, the default evaluation metric used with the objective 'binary:logistic' was changed from 'error' to 'logloss'. Explicitly set eval_metric if you'd like to restore the old behavior.\n",
      "F1 XG Boost: 0.731 (0.011)\n"
     ]
    }
   ],
   "source": [
    "cv = KFold(n_splits=5, random_state=1, shuffle=True) # more than 6 --> overfit\n",
    "scores = cross_val_score(xgb_model.fit(X_train,y_train), data.drop(columns = [ 'hall_add_aggr','stim_add_aggr', 'depr_add_aggr'], axis=1), \n",
    "                         data[dt], scoring='f1', cv=cv, n_jobs=-1)\n",
    "# report performance\n",
    "print('F1 XG Boost: %.3f (%.3f)' % (np.mean(scores), np.std(scores)))"
   ]
  },
  {
   "cell_type": "markdown",
   "id": "643b682e",
   "metadata": {},
   "source": [
    "# Random forest"
   ]
  },
  {
   "cell_type": "code",
   "execution_count": 167,
   "id": "7ee6b0b1",
   "metadata": {},
   "outputs": [],
   "source": [
    "from sklearn.ensemble import RandomForestRegressor\n",
    "\n",
    "# rerun after XG-Boost\n",
    "X_train, X_test, y_train, y_test = train_test_split(data.drop(columns = [ 'hall_add_aggr','stim_add_aggr', 'depr_add_aggr'], axis=1), \n",
    "                                                    data[dt], test_size=0.3, random_state=0)\n",
    "\n",
    "oversample = SMOTE()\n",
    "X_train, y_train = oversample.fit_resample(X_train, y_train)\n",
    "#y_train.value_counts()\n",
    "\n",
    "rf = RandomForestRegressor(n_estimators = 1000, random_state = 42)\n",
    "rf.fit(X_train, y_train)\n",
    "\n",
    "y_pred_cont = rf.predict(X_test)\n",
    "\n",
    "y_pred = [1 if i>0.5 else 0 for i in y_pred_cont] #convert to discrete variable 0.6 get the best acuracy\n",
    "\n",
    "#fig.savefig('../img/' + dt + 'confusion_matrix_stim_random_forest.png') just for the mid term report"
   ]
  },
  {
   "cell_type": "code",
   "execution_count": 158,
   "id": "0a167179",
   "metadata": {},
   "outputs": [
    {
     "name": "stdout",
     "output_type": "stream",
     "text": [
      "MCC6: 0.36785392476136597\n"
     ]
    },
    {
     "data": {
      "image/png": "[encoded data removed]",
      "text/plain": [
       "<Figure size 540x540 with 1 Axes>"
      ]
     },
     "metadata": {
      "needs_background": "light"
     },
     "output_type": "display_data"
    }
   ],
   "source": [
    "MCC6 = matthews_corrcoef(y_test, y_pred)\n",
    "print(f\"MCC6: {MCC6}\")\n",
    "spec1=9\n",
    "\n",
    "\n",
    "cm1 = confusion_matrix(y_pred, y_test)\n",
    "\n",
    "fig, ax = plt.subplots(figsize=(7.5, 7.5))\n",
    "ax.matshow(cm1, cmap=plt.cm.Blues, alpha=0.3)\n",
    "for i in range(cm1.shape[0]):\n",
    "    for j in range(cm1.shape[1]):\n",
    "        ax.text(x=j, y=i,s=cm1[i, j], va='center', ha='center', size='xx-large')\n",
    "\n",
    "plt.xlabel('Predictions', fontsize=18)\n",
    "plt.ylabel('Actuals', fontsize=18)\n",
    "plt.title('Confusion Matrix random forest', fontsize=18)\n",
    "plt.show()"
   ]
  }
 ],
 "metadata": {
  "kernelspec": {
   "display_name": "Python 3 (ipykernel)",
   "language": "python",
   "name": "python3"
  },
  "language_info": {
   "codemirror_mode": {
    "name": "ipython",
    "version": 3
   },
   "file_extension": ".py",
   "mimetype": "text/x-python",
   "name": "python",
   "nbconvert_exporter": "python",
   "pygments_lexer": "ipython3",
   "version": "3.9.7"
  }
 },
 "nbformat": 4,
 "nbformat_minor": 5
}
